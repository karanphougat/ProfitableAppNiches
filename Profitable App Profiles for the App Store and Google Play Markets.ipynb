{
 "cells": [
  {
   "cell_type": "markdown",
   "metadata": {},
   "source": [
    "# Profitable App Profiles for the App Store and Google Play Markets"
   ]
  },
  {
   "cell_type": "markdown",
   "metadata": {},
   "source": [
    "# About\n",
    "\n",
    "Our aim in this project is to find mobile app profiles that are profitable for the App Store and Google Play markets.\n",
    "\n",
    "Considering that we only build apps that are free to download and install, app language is english, and our main source of revenue consists of in-app ads, our revenue for any given app will be influenced by the number of users that use our app.\n",
    "\n",
    "As a data analyst, my job will be enable my team of developers to make data-driven decisions with respect to the kind of apps they build.\n",
    "\n",
    "Our goal for this project is to analyze data to help our developers understand what kinds of apps are likely to attract more users.\n"
    "\n",
    "Disclaimer - This project is a result of my data science learning efforts on the platform, Dataquest.io"
   ]
  },
  {
   "cell_type": "markdown",
   "metadata": {},
   "source": [
    "# Goals\n",
    "\n",
    "- Clean app stores' sample dataset.\n",
    "- Analyze Apple and Google store data.\n",
    "- Find Profitable App Niches on Apple App Store and Google Play Markets."
   ]
  },
  {
   "cell_type": "markdown",
   "metadata": {},
   "source": [
    "# Datasets"
   ]
  },
  {
   "cell_type": "markdown",
   "metadata": {},
   "source": [
    "Collecting data for over four million apps requires a significant amount of time and money, so we'll try to analyze a sample of data instead. To avoid spending resources with collecting new data ourselves, we should first try to see whether we can find any relevant existing data at no cost. Luckily, these are two data sets that seem suitable for our purpose:\n",
    "\n",
    "- A [data set](https://www.kaggle.com/lava18/google-play-store-apps) containing data about approximately ten thousand Android apps from Google Play. You can download the data set directly from this [link](https://dq-content.s3.amazonaws.com/350/googleplaystore.csv).\n",
    "- A [data set](https://www.kaggle.com/ramamet4/app-store-apple-data-set-10k-apps) containing data about approximately seven thousand iOS apps from the App Store. You can download the data set directly from this [link](https://dq-content.s3.amazonaws.com/350/AppleStore.csv)."
   ]
  },
  {
   "cell_type": "markdown",
   "metadata": {},
   "source": [
    "# Opening and Exploring the Data"
   ]
  },
  {
   "cell_type": "markdown",
   "metadata": {},
   "source": [
    "I have written a couple of functions below that will help us open and explore the data.\n",
    "\n",
    "`listcsvfile()` function will help us open a csv file, read it and return a list of lists of the data from the csv file. It takes in 1 arguement: a file to perform the operation on."
   ]
  },
  {
   "cell_type": "code",
   "execution_count": 1,
   "metadata": {
    "scrolled": true
   },
   "outputs": [],
   "source": [
    "# This function creates list of lists from a csv file.\n",
    "\n",
    "import csv\n",
    "\n",
    "def listcsvfile(filename):\n",
    "    dataset = []  \n",
    "    read_file = csv.reader(open(filename))\n",
    "    dataset = list(read_file)\n",
    "    return dataset\n",
    "\n",
    "google_dataset = listcsvfile('googleplaystore.csv')\n",
    "google_datavalues = google_dataset[1:] #without header\n",
    "\n",
    "apple_dataset = listcsvfile('AppleStore.csv')\n",
    "apple_datavalues = apple_dataset[1:] #without header"
   ]
  },
  {
   "cell_type": "markdown",
   "metadata": {},
   "source": [
    "`explore_data()` function will help us easily explore data from the dataset using simple list index numbers and can also tell us about the number of rows and columns in the data set. This function assumes that there is a header row present in the dataset and therefore doesn't count the first row in the dataset."
   ]
  },
  {
   "cell_type": "code",
   "execution_count": 2,
   "metadata": {},
   "outputs": [],
   "source": [
    "# This function helps us explore a list of data.\n",
    "\n",
    "def explore_data(dataset, start, end, rows_and_columns=False):\n",
    "    dataset_slice = dataset[start:end]    \n",
    "    for row in dataset_slice:\n",
    "        print(row)\n",
    "        print('\\n')\n",
    "\n",
    "    if rows_and_columns:\n",
    "        print('Number of rows:', len(dataset))\n",
    "        print('Number of columns:', len(dataset[0]))"
   ]
  },
  {
   "cell_type": "code",
   "execution_count": 3,
   "metadata": {
    "scrolled": false
   },
   "outputs": [
    {
     "name": "stdout",
     "output_type": "stream",
     "text": [
      "Apple Dataset Columns\n",
      "['id', 'track_name', 'size_bytes', 'currency', 'price', 'rating_count_tot', 'rating_count_ver', 'user_rating', 'user_rating_ver', 'ver', 'cont_rating', 'prime_genre', 'sup_devices.num', 'ipadSc_urls.num', 'lang.num', 'vpp_lic']\n",
      "['284882215', 'Facebook', '389879808', 'USD', '0.0', '2974676', '212', '3.5', '3.5', '95.0', '4+', 'Social Networking', '37', '1', '29', '1']\n",
      "\n",
      "\n",
      "Number of rows: 7197\n",
      "Number of columns: 16\n",
      "\n",
      "\n",
      "\n",
      "Google Dataset Columns\n",
      "['App', 'Category', 'Rating', 'Reviews', 'Size', 'Installs', 'Type', 'Price', 'Content Rating', 'Genres', 'Last Updated', 'Current Ver', 'Android Ver']\n",
      "['Photo Editor & Candy Camera & Grid & ScrapBook', 'ART_AND_DESIGN', '4.1', '159', '19M', '10,000+', 'Free', '0', 'Everyone', 'Art & Design', 'January 7, 2018', '1.0.0', '4.0.3 and up']\n",
      "\n",
      "\n",
      "Number of rows: 10841\n",
      "Number of columns: 13\n"
     ]
    }
   ],
   "source": [
    "# Dataset Columns List with number of rows and columns in datasets\n",
    "\n",
    "print('Apple Dataset Columns')\n",
    "print(apple_dataset[0])\n",
    "explore_apple = explore_data(apple_datavalues, 0, 1, True)\n",
    "print('\\n')\n",
    "print('\\nGoogle Dataset Columns')\n",
    "print(google_dataset[0])\n",
    "explore_google = explore_data(google_datavalues, 0, 1, True)"
   ]
  },
  {
   "cell_type": "markdown",
   "metadata": {},
   "source": [
    "# Data Cleaning"
   ]
  },
  {
   "cell_type": "markdown",
   "metadata": {},
   "source": [
    "Before beginning our analysis, we need to make sure the data we analyze is accurate, or the results of our analysis will be wrong.\n",
    "\n",
    "Therefore, we need to clean our data.\n",
    "\n",
    "In respect with this project, we have following objectives while cleaning our datasets:\n",
    "\n",
    "- Detect inaccurate data, and correct or remove it.\n",
    "- Detect duplicate data, and remove the duplicates.\n",
    "- Remove non-English apps like 爱奇艺PPS -《欢乐颂2》电视剧热播.\n",
    "- Remove apps that aren't free."
   ]
  },
  {
   "cell_type": "markdown",
   "metadata": {},
   "source": [
    "### Detecting Inaccurate Data"
   ]
  },
  {
   "cell_type": "markdown",
   "metadata": {},
   "source": [
    "To find inaccurate/incomplete data, we can do the following:\n",
    "\n",
    "- Analyze comments or insights at the source of dataset regarding any inaccuracy.\n",
    "- Iterate over datset to find any missing column values.\n",
    "- Analyze the dataset to find any odd values.\n",
    "\n",
    "Considering above points, I have made the follwing observation:\n",
    " \n",
    "The Google Play dataset has a dedicated [discussion section](https://www.kaggle.com/lava18/google-play-store-apps/discussion), and we can see that [one of the discussions](https://www.kaggle.com/lava18/google-play-store-apps/discussion/66015) describes an error for a certain row.\n",
    "\n",
    "That row number is 10472.\n",
    "\n",
    "Let's build a function to test all the rows."
   ]
  },
  {
   "cell_type": "markdown",
   "metadata": {},
   "source": [
    "`inaccurate_rows()` function takes in a dataset as input, checks the rows of dataset for any missing values against the header row, prints all the innaccurate rows, counts them and append the values to another list."
   ]
  },
  {
   "cell_type": "code",
   "execution_count": 4,
   "metadata": {
    "scrolled": true
   },
   "outputs": [
    {
     "name": "stdout",
     "output_type": "stream",
     "text": [
      "['Life Made WI-Fi Touchscreen Photo Frame', '1.9', '19', '3.0M', '1,000+', 'Free', '0', 'Everyone', '', 'February 11, 2018', '1.0.19', '4.0 and up']\n",
      "\n",
      "Total number of inaccurate rows: 1\n",
      "\n",
      "List of indexes of inaccurate rows in the Google Play dataset\n",
      "[10472]\n",
      "\n",
      "List of indexes of inaccurate rows in the Apple Store dataset\n",
      "No Inaccurate Data\n"
     ]
    }
   ],
   "source": [
    "# Function to print and count rows with missing values and adding them to a list\n",
    "\n",
    "def inaccurate_rows(dataset):\n",
    "    inaccurate_list_indexes = []\n",
    "    for row in dataset:\n",
    "        count = 0\n",
    "        if len(row) != len(dataset[0]):     \n",
    "            print(row)\n",
    "            inaccurate_list_indexes.append(dataset.index(row)) \n",
    "            count =+ 1\n",
    "            print('\\nTotal number of inaccurate rows: ' + str(count))\n",
    "    if inaccurate_list_indexes == []:\n",
    "        return 'No Inaccurate Data'\n",
    "    else:\n",
    "        return inaccurate_list_indexes\n",
    "            \n",
    "\n",
    "inaccurate_rows_google = inaccurate_rows(google_datavalues)\n",
    "print('\\nList of indexes of inaccurate rows in the Google Play dataset')\n",
    "print(inaccurate_rows_google)\n",
    "\n",
    "\n",
    "inaccurate_rows_apple = inaccurate_rows(apple_datavalues)\n",
    "print('\\nList of indexes of inaccurate rows in the Apple Store dataset')\n",
    "print(inaccurate_rows_apple)"
   ]
  },
  {
   "cell_type": "markdown",
   "metadata": {},
   "source": [
    "As we can see that there is only one row in Google Play Dataset that has missing values due to which there have been dicrepancies in the same row.\n",
    "\n",
    "We can easily delete that row from the dataset using `del` statement."
   ]
  },
  {
   "cell_type": "code",
   "execution_count": 5,
   "metadata": {
    "scrolled": false
   },
   "outputs": [
    {
     "name": "stdout",
     "output_type": "stream",
     "text": [
      "10841\n",
      "10840\n"
     ]
    }
   ],
   "source": [
    "print(str(len(google_datavalues)))\n",
    "del google_datavalues[inaccurate_rows_google[0]]\n",
    "print(str(len(google_datavalues)))"
   ]
  },
  {
   "cell_type": "markdown",
   "metadata": {},
   "source": [
    "### Removing Duplicate Entries"
   ]
  },
  {
   "cell_type": "markdown",
   "metadata": {},
   "source": [
    "If we explore the data set long enough, we'll find that some apps have more than one entry. \n",
    "\n",
    "We don't want to count certain apps more than once when we analyze data, so we need to remove the duplicate entries and keep only one entry per app. \n",
    "\n",
    "To find duplciate enteries, we have created a function called `find_duplicate()` that takes in the dataset as input and returns the number of duplicate apps in our dataset."
   ]
  },
  {
   "cell_type": "code",
   "execution_count": 6,
   "metadata": {
    "scrolled": true
   },
   "outputs": [
    {
     "name": "stdout",
     "output_type": "stream",
     "text": [
      "Number of duplicate apps:  1181\n",
      "\n",
      "Example of Duplicate Apps:  ['Quick PDF Scanner + OCR FREE', 'Box', 'Google My Business', 'ZOOM Cloud Meetings', 'join.me - Simple Meetings', 'Box', 'Zenefits', 'Google Ads', 'Google My Business', 'Slack', 'FreshBooks Classic', 'Insightly CRM', 'QuickBooks Accounting: Invoicing & Expenses', 'HipChat - Chat Built for Teams', 'Xero Accounting Software', 'MailChimp - Email, Marketing Automation', 'Crew - Free Messaging and Scheduling', 'Asana: organize team projects', 'Google Analytics', 'AdWords Express']\n",
      "\n",
      "\n",
      "Number of duplicate apps:  0\n",
      "\n",
      "Example of Duplicate Apps:  []\n"
     ]
    }
   ],
   "source": [
    "# Function to find duplicate app enteries in the dataset\n",
    "\n",
    "def find_duplicate(dataset):\n",
    "    duplicate_names = []\n",
    "    uniques_names = []\n",
    "    for app in dataset:\n",
    "        name = app[0]\n",
    "        if name in uniques_names:\n",
    "            duplicate_names.append(name)\n",
    "        else:\n",
    "            uniques_names.append(name)\n",
    "    print('Number of duplicate apps: ', len(duplicate_names))\n",
    "    \n",
    "    print('\\nExample of Duplicate Apps: ', duplicate_names[:20])\n",
    "    \n",
    "find_duplicate(google_datavalues)\n",
    "print('\\n')\n",
    "find_duplicate(apple_datavalues)"
   ]
  },
  {
   "cell_type": "markdown",
   "metadata": {},
   "source": [
    "Looking at the above test, we can easily say that Google Play dataset has 1181 instances of repetiton and Apple Store dataset has 0 duplicate rows. In fact, some of the duplicates are already visible in the example of duplicate apps.\n",
    "\n",
    "Therefore, we will focus on finding and eliminating all the duplicate rows in Google Dataset. However, we still need to figure out why these apps have duplicate rows. We can print all the suplicate values of an app and then compare different rows to figure out the reason behind duplication."
   ]
  },
  {
   "cell_type": "code",
   "execution_count": 7,
   "metadata": {
    "scrolled": false
   },
   "outputs": [
    {
     "name": "stdout",
     "output_type": "stream",
     "text": [
      "['App', 'Category', 'Rating', 'Reviews', 'Size', 'Installs', 'Type', 'Price', 'Content Rating', 'Genres', 'Last Updated', 'Current Ver', 'Android Ver']\n",
      "\n",
      "\n",
      "['Facebook', 'SOCIAL', '4.1', '78158306', 'Varies with device', '1,000,000,000+', 'Free', '0', 'Teen', 'Social', 'August 3, 2018', 'Varies with device', 'Varies with device']\n",
      "\n",
      "\n",
      "['Facebook', 'SOCIAL', '4.1', '78128208', 'Varies with device', '1,000,000,000+', 'Free', '0', 'Teen', 'Social', 'August 3, 2018', 'Varies with device', 'Varies with device']\n",
      "\n",
      "\n"
     ]
    }
   ],
   "source": [
    "# Testing the duplicate enteries for popular app names like 'Facebook' or 'Instagram'\n",
    "\n",
    "print(google_dataset[0])\n",
    "print('\\n')\n",
    "for app in google_dataset:\n",
    "    name = app[0]\n",
    "    if name == 'Facebook':\n",
    "        print(app)\n",
    "        print('\\n')"
   ]
  },
  {
   "cell_type": "markdown",
   "metadata": {},
   "source": [
    "Looking at the output of the above test as well as some other app name tests that I conducted, that are not listed here, I have following observations:\n",
    "\n",
    "- Some apps have completely similar data. They are exact duplicates that might have gotten saved in the datset either due to manual error or due to multiple similar data enteries.\n",
    "- Some apps have similar data points except for the number of reviews which are variable possibly due to subsequent data updates.\n",
    "\n",
    "In either of the cases, we should keep data with the highest reviews and remove the rest. And to do that, we have to take the following steps:\n",
    "\n",
    "1. Create a dictionary where each key is a unique app name, and the value is the highest number of reviews of that app.\n",
    "2. Use the dictionary to create a new data set, which will have only one entry per app."
   ]
  },
  {
   "cell_type": "markdown",
   "metadata": {},
   "source": [
    "`clean_dataset()` function takes in a dataset (a list of list) as input, checks for duplicate values and returns a clean dataset without any duplicate values and apps data with highest number of app reviews."
   ]
  },
  {
   "cell_type": "code",
   "execution_count": 8,
   "metadata": {
    "scrolled": true
   },
   "outputs": [
    {
     "name": "stdout",
     "output_type": "stream",
     "text": [
      "['Photo Editor & Candy Camera & Grid & ScrapBook', 'ART_AND_DESIGN', '4.1', '159', '19M', '10,000+', 'Free', '0', 'Everyone', 'Art & Design', 'January 7, 2018', '1.0.0', '4.0.3 and up']\n",
      "\n",
      "\n",
      "['U Launcher Lite – FREE Live Cool Themes, Hide Apps', 'ART_AND_DESIGN', '4.7', '87510', '8.7M', '5,000,000+', 'Free', '0', 'Everyone', 'Art & Design', 'August 1, 2018', '1.2.4', '4.0.3 and up']\n",
      "\n",
      "\n",
      "['Sketch - Draw & Paint', 'ART_AND_DESIGN', '4.5', '215644', '25M', '50,000,000+', 'Free', '0', 'Teen', 'Art & Design', 'June 8, 2018', 'Varies with device', '4.2 and up']\n",
      "\n",
      "\n",
      "Number of rows: 9659\n",
      "Number of columns: 13\n"
     ]
    }
   ],
   "source": [
    "# Function to clean a dataset of duplicate values while retaining enteries with highest reviews\n",
    "\n",
    "def clean_dataset(dataset):\n",
    "    reviews_max = {}\n",
    "    \n",
    "    for app in dataset:\n",
    "        name = app[0]\n",
    "        n_reviews = float(app[3])\n",
    "        \n",
    "        if name in reviews_max and reviews_max[name] < n_reviews:\n",
    "            reviews_max[name] = n_reviews\n",
    "        elif name not in reviews_max:\n",
    "            reviews_max[name] = n_reviews\n",
    "    \n",
    "    android_clean = []\n",
    "    already_added = []\n",
    "    \n",
    "    for app in dataset:\n",
    "        name = app[0]\n",
    "        n_reviews = float(app[3])\n",
    "        \n",
    "        if (reviews_max[name] == n_reviews) and (name not in already_added):\n",
    "            android_clean.append(app)\n",
    "            already_added.append(name)\n",
    "    \n",
    "    return android_clean, already_added\n",
    "\n",
    "cleaner_dataset = clean_dataset(google_datavalues)\n",
    "\n",
    "android_clean = cleaner_dataset[0]\n",
    "already_added = cleaner_dataset[1]\n",
    "\n",
    "# Test to check the cleaned dataset\n",
    "explore_data(android_clean, 0, 3, True)"
   ]
  },
  {
   "cell_type": "markdown",
   "metadata": {},
   "source": [
    "We can see that we're left with **9659 Android apps** without duplicate app names and the original apple dataset with **7197 iOS apps** as there were no duplicates in apple dataset and no inaccuracies."
   ]
  },
  {
   "cell_type": "markdown",
   "metadata": {},
   "source": [
    "### Removing Non-English Apps"
   ]
  },
  {
   "cell_type": "markdown",
   "metadata": {},
   "source": [
    "As the apps that our team of developer creates are for the English Speakers, **we can remove non-english apps.**\n",
    "\n",
    "The numbers corresponding to the characters we commonly use in an English text are all in the range 0 to 127, according to the ASCII (American Standard Code for Information Interchange) system. Based on this number range, we can build a function that detects whether a character belongs to the set of common English characters or not. If the number is equal to or less than 127, then the character belongs to the set of common English characters.\n",
    "\n",
    "If an app name contains a **character that is greater than 127**, then it probably means that the app has a non-English name. However, some apps might have emojis or characters such as hyphens in their names and hence, **to reduce the amount of data loss, we will accept upto 3 non-english charaters.**\n",
    "\n",
    "`ord()` is a built-in function in Pyhton that returns the Unicode code from a given character and be really useful in this case.\n",
    "\n",
    "We have created a function called `is_english()` that takes in a data as an input and returns dataset with english app names. It also asks for the app name index in the list as we have to analyze two datasets i.e. android_clean and apple_datavalues."
   ]
  },
  {
   "cell_type": "code",
   "execution_count": 9,
   "metadata": {
    "scrolled": false
   },
   "outputs": [
    {
     "name": "stdout",
     "output_type": "stream",
     "text": [
      "['Photo Editor & Candy Camera & Grid & ScrapBook', 'ART_AND_DESIGN', '4.1', '159', '19M', '10,000+', 'Free', '0', 'Everyone', 'Art & Design', 'January 7, 2018', '1.0.0', '4.0.3 and up']\n",
      "\n",
      "\n",
      "['U Launcher Lite – FREE Live Cool Themes, Hide Apps', 'ART_AND_DESIGN', '4.7', '87510', '8.7M', '5,000,000+', 'Free', '0', 'Everyone', 'Art & Design', 'August 1, 2018', '1.2.4', '4.0.3 and up']\n",
      "\n",
      "\n",
      "['Sketch - Draw & Paint', 'ART_AND_DESIGN', '4.5', '215644', '25M', '50,000,000+', 'Free', '0', 'Teen', 'Art & Design', 'June 8, 2018', 'Varies with device', '4.2 and up']\n",
      "\n",
      "\n",
      "Number of rows: 9614\n",
      "Number of columns: 13\n",
      "\n",
      "\n",
      "['284882215', 'Facebook', '389879808', 'USD', '0.0', '2974676', '212', '3.5', '3.5', '95.0', '4+', 'Social Networking', '37', '1', '29', '1']\n",
      "\n",
      "\n",
      "['389801252', 'Instagram', '113954816', 'USD', '0.0', '2161558', '1289', '4.5', '4.0', '10.23', '12+', 'Photo & Video', '37', '0', '29', '1']\n",
      "\n",
      "\n",
      "['529479190', 'Clash of Clans', '116476928', 'USD', '0.0', '2130805', '579', '4.5', '4.5', '9.24.12', '9+', 'Games', '38', '5', '18', '1']\n",
      "\n",
      "\n",
      "Number of rows: 6183\n",
      "Number of columns: 16\n"
     ]
    }
   ],
   "source": [
    "# Function to generate a new dataset with app names in english only\n",
    "\n",
    "def is_english(dataset, appname_index):\n",
    "    \n",
    "    english_dataset = []\n",
    "    \n",
    "    for app in dataset:\n",
    "        name = app[appname_index]\n",
    "        non_english = 0\n",
    "        for character in name:\n",
    "            if ord(character) > 127:\n",
    "                non_english += 1\n",
    "        \n",
    "        if non_english < 4:\n",
    "            english_dataset.append(app)\n",
    "    \n",
    "    return english_dataset\n",
    "\n",
    "android_english = is_english(android_clean, 0)\n",
    "ios_english = is_english(apple_datavalues, 1)\n",
    "\n",
    "# Testing is_english() function with both datasets\n",
    "explore_data(android_english, 0, 3, True)\n",
    "print('\\n')\n",
    "explore_data(ios_english, 0, 3, True)"
   ]
  },
  {
   "cell_type": "markdown",
   "metadata": {},
   "source": [
    "We can see that we're left with **9614 Android apps and 6183 iOS apps** after checking both of the datasets for apps with non-english names."
   ]
  },
  {
   "cell_type": "markdown",
   "metadata": {},
   "source": [
    "### Isolating the Free Apps"
   ]
  },
  {
   "cell_type": "markdown",
   "metadata": {},
   "source": [
    "As we mentioned in the introduction, we only build apps that are free to download and install, and our main source of revenue consists of in-app ads. Our data sets contain both free and non-free apps, and we'll need to isolate only the free apps for our analysis. Below, we isolate the free apps for both our data sets.\n",
    "\n",
    "`isolate_free()` function tests the apps for the price of the apps and categorizes free apps in a new final dataset, which we will be using for our analysis."
   ]
  },
  {
   "cell_type": "code",
   "execution_count": 10,
   "metadata": {
    "scrolled": false
   },
   "outputs": [
    {
     "name": "stdout",
     "output_type": "stream",
     "text": [
      "['Photo Editor & Candy Camera & Grid & ScrapBook', 'ART_AND_DESIGN', '4.1', '159', '19M', '10,000+', 'Free', '0', 'Everyone', 'Art & Design', 'January 7, 2018', '1.0.0', '4.0.3 and up']\n",
      "\n",
      "\n",
      "['U Launcher Lite – FREE Live Cool Themes, Hide Apps', 'ART_AND_DESIGN', '4.7', '87510', '8.7M', '5,000,000+', 'Free', '0', 'Everyone', 'Art & Design', 'August 1, 2018', '1.2.4', '4.0.3 and up']\n",
      "\n",
      "\n",
      "Number of rows: 8864\n",
      "Number of columns: 13\n",
      "\n",
      "\n",
      "['284882215', 'Facebook', '389879808', 'USD', '0.0', '2974676', '212', '3.5', '3.5', '95.0', '4+', 'Social Networking', '37', '1', '29', '1']\n",
      "\n",
      "\n",
      "['389801252', 'Instagram', '113954816', 'USD', '0.0', '2161558', '1289', '4.5', '4.0', '10.23', '12+', 'Photo & Video', '37', '0', '29', '1']\n",
      "\n",
      "\n",
      "Number of rows: 3222\n",
      "Number of columns: 16\n"
     ]
    }
   ],
   "source": [
    "# Function to isolate free apps\n",
    "# We have taken priceindex as a paramter because with 2 different datasets with different structure\n",
    "# priceindex parameter takes idenx number of price compononent of app as input\n",
    "\n",
    "def isolate_free(dataset, priceindex):\n",
    "    \n",
    "    final_dataset = []\n",
    "    for app in dataset:\n",
    "        price = app[priceindex]\n",
    "        if price == '0' or price =='0.0':\n",
    "            final_dataset.append(app)\n",
    "            \n",
    "    return final_dataset\n",
    "\n",
    "android_final = isolate_free(android_english, 7)\n",
    "ios_final = isolate_free(ios_english, 4)\n",
    "\n",
    "# Testing the final dataset\n",
    "explore_data(android_final, 0, 2, True)\n",
    "print('\\n')\n",
    "explore_data(ios_final, 0, 2, True)"
   ]
  },
  {
   "cell_type": "markdown",
   "metadata": {},
   "source": [
    "### Final Dataset\n",
    "\n",
    "We're left with **8864 Android apps and 3222 iOS apps**, which should be enough for our analysis."
   ]
  },
  {
   "cell_type": "markdown",
   "metadata": {},
   "source": [
    "# Data Analysis"
   ]
  },
  {
   "cell_type": "markdown",
   "metadata": {},
   "source": [
    "As we mentioned at the start, our aim is to determine the kinds of apps that are likely to attract more users because our revenue is highly influenced by the number of people using our apps.\n",
    "\n",
    "To minimize risks and overhead, our validation strategy for an app idea is comprised of three steps:\n",
    "\n",
    "1. Build a minimal Android version of the app, and add it to Google Play.\n",
    "2. If the app has a good response from users, we then develop it further.\n",
    "3. If the app is profitable after six months, we also build an iOS version of the app and add it to the App Store.\n",
    "\n",
    "Because our end goal is to add the app on both the App Store and Google Play, we need to find app profiles that are successful on both markets. For instance, a profile that might work well for both markets might be a productivity app that makes use of gamification.\n",
    "\n",
    "Let's begin the analysis by getting a sense of the most common genres for each market. For this, we'll build a frequency table for the `prime_genre` column of the App Store data set, and the `Genres` and `Category` columns of the Google Play data set.\n",
    "\n",
    "We'll build two functions we can use to analyze the frequency tables:\n",
    "\n",
    "- One function to generate frequency tables that show percentages i.e. `freq_table()`\n",
    "- Another function that we can use to display the percentages in a descending order i.e. `display_table()`"
   ]
  },
  {
   "cell_type": "code",
   "execution_count": 11,
   "metadata": {},
   "outputs": [],
   "source": [
    "# Function to convert a dataset into frequency table (percentages)\n",
    "\n",
    "def freq_table(dataset, index):\n",
    "    table = {}\n",
    "    total = 0 \n",
    "    for app in dataset:\n",
    "        total += 1\n",
    "        column = app[index]\n",
    "        if column in table:\n",
    "            table[column] += 1\n",
    "        else:\n",
    "            table[column] = 1\n",
    "            \n",
    "    percentage_table = {}\n",
    "    for key in table:\n",
    "        percentage = (table[key] / total) * 100\n",
    "        percentage_table[key] = percentage \n",
    "    \n",
    "    return percentage_table          \n",
    " \n",
    "\n",
    "# Function to sort a frequency table       \n",
    "\n",
    "def display_table(dataset, index):\n",
    "    table = freq_table(dataset, index)\n",
    "    table_display = []\n",
    "    for key in table:\n",
    "        key_val_as_tuple = (table[key], key)\n",
    "        table_display.append(key_val_as_tuple)\n",
    "\n",
    "    table_sorted = sorted(table_display, reverse = True)\n",
    "    for entry in table_sorted:\n",
    "        print(entry[1], ':', round(entry[0], 2))"
   ]
  },
  {
   "cell_type": "markdown",
   "metadata": {},
   "source": [
    "### Examining `prime_genre`"
   ]
  },
  {
   "cell_type": "markdown",
   "metadata": {},
   "source": [
    "We start by examining the frequency table for the `prime_genre` column of the App Store data set with an index number of **(-5)** and dataset name **ios_final** to check the percentage of famous app genres."
   ]
  },
  {
   "cell_type": "code",
   "execution_count": 12,
   "metadata": {},
   "outputs": [
    {
     "name": "stdout",
     "output_type": "stream",
     "text": [
      "Games : 58.16\n",
      "Entertainment : 7.88\n",
      "Photo & Video : 4.97\n",
      "Education : 3.66\n",
      "Social Networking : 3.29\n",
      "Shopping : 2.61\n",
      "Utilities : 2.51\n",
      "Sports : 2.14\n",
      "Music : 2.05\n",
      "Health & Fitness : 2.02\n",
      "Productivity : 1.74\n",
      "Lifestyle : 1.58\n",
      "News : 1.33\n",
      "Travel : 1.24\n",
      "Finance : 1.12\n",
      "Weather : 0.87\n",
      "Food & Drink : 0.81\n",
      "Reference : 0.56\n",
      "Business : 0.53\n",
      "Book : 0.43\n",
      "Navigation : 0.19\n",
      "Medical : 0.19\n",
      "Catalogs : 0.12\n"
     ]
    }
   ],
   "source": [
    "# prime_genre\n",
    "display_table(ios_final, -5)"
   ]
  },
  {
   "cell_type": "markdown",
   "metadata": {},
   "source": [
    "##### Observations\n",
    "\n",
    "- We can see that among the free English apps, more than a half (58.16%) are games.\n",
    "\n",
    "- Entertainment apps are second 8%, followed by photo and video apps, which are close to 5%. The general impression is that App Store is dominated by apps that are designed for fun.\n",
    "\n",
    "- Only 3.66% of the apps are designed for education possibly because EdTech is still new and apps are not that common for the purpose.\n",
    "\n",
    "- Social networking apps amount for 3.29% of the apps in our data set, which is still a higher percentage, considering that majority of the market is dominated by just a few apps."
   ]
  },
  {
   "cell_type": "markdown",
   "metadata": {},
   "source": [
    "### Examining `Genres` and `Category`"
   ]
  },
  {
   "cell_type": "markdown",
   "metadata": {},
   "source": [
    "Let's continue by examining the `Genres` and `Category` columns of the Google Play data set with index number of **(-4) and (1)** respectively and dataset name **android_final** to check the percentage of famous app genres."
   ]
  },
  {
   "cell_type": "code",
   "execution_count": 13,
   "metadata": {
    "scrolled": false
   },
   "outputs": [
    {
     "name": "stdout",
     "output_type": "stream",
     "text": [
      "FAMILY : 18.91\n",
      "GAME : 9.72\n",
      "TOOLS : 8.46\n",
      "BUSINESS : 4.59\n",
      "LIFESTYLE : 3.9\n",
      "PRODUCTIVITY : 3.89\n",
      "FINANCE : 3.7\n",
      "MEDICAL : 3.53\n",
      "SPORTS : 3.4\n",
      "PERSONALIZATION : 3.32\n",
      "COMMUNICATION : 3.24\n",
      "HEALTH_AND_FITNESS : 3.08\n",
      "PHOTOGRAPHY : 2.94\n",
      "NEWS_AND_MAGAZINES : 2.8\n",
      "SOCIAL : 2.66\n",
      "TRAVEL_AND_LOCAL : 2.34\n",
      "SHOPPING : 2.25\n",
      "BOOKS_AND_REFERENCE : 2.14\n",
      "DATING : 1.86\n",
      "VIDEO_PLAYERS : 1.79\n",
      "MAPS_AND_NAVIGATION : 1.4\n",
      "FOOD_AND_DRINK : 1.24\n",
      "EDUCATION : 1.16\n",
      "ENTERTAINMENT : 0.96\n",
      "LIBRARIES_AND_DEMO : 0.94\n",
      "AUTO_AND_VEHICLES : 0.93\n",
      "HOUSE_AND_HOME : 0.82\n",
      "WEATHER : 0.8\n",
      "EVENTS : 0.71\n",
      "PARENTING : 0.65\n",
      "ART_AND_DESIGN : 0.64\n",
      "COMICS : 0.62\n",
      "BEAUTY : 0.6\n"
     ]
    }
   ],
   "source": [
    "# Category\n",
    "display_table(android_final, 1)"
   ]
  },
  {
   "cell_type": "markdown",
   "metadata": {},
   "source": [
    "##### Observations\n",
    "\n",
    "- We can see that among the free English apps, top 2 app categpries are Family and Games. However, looking at family genre on Google Play Store, I found out that [majority of those family apps are games and something related to kids](https://play.google.com/store/apps/collection/cluster?clp=ogowCAESBkZBTUlMWRocChZyZWNzX3RvcGljX2xITlVpaVplX2NnEDsYAyoCCANSAggC:S:ANO1ljILVpg&gsr=CjOiCjAIARIGRkFNSUxZGhwKFnJlY3NfdG9waWNfbEhOVWlpWmVfY2cQOxgDKgIIA1ICCAI%3D:S:ANO1ljL_7RU&hl=en).\n",
    "\n",
    "- Non-fun apps such as Tools stand third at 8.46, Business at 4.59, Productivity at 3.89, Finance at 3.7, Medical at 3.53.\n",
    "\n",
    "- Social networking apps amount for 2.66% of the apps in our data set, which is closer to what we got in Apple App Store dataset."
   ]
  },
  {
   "cell_type": "code",
   "execution_count": 14,
   "metadata": {
    "scrolled": false
   },
   "outputs": [
    {
     "name": "stdout",
     "output_type": "stream",
     "text": [
      "Tools : 8.45\n",
      "Entertainment : 6.07\n",
      "Education : 5.35\n",
      "Business : 4.59\n",
      "Productivity : 3.89\n",
      "Lifestyle : 3.89\n",
      "Finance : 3.7\n",
      "Medical : 3.53\n",
      "Sports : 3.46\n",
      "Personalization : 3.32\n",
      "Communication : 3.24\n",
      "Action : 3.1\n",
      "Health & Fitness : 3.08\n",
      "Photography : 2.94\n",
      "News & Magazines : 2.8\n",
      "Social : 2.66\n",
      "Travel & Local : 2.32\n",
      "Shopping : 2.25\n",
      "Books & Reference : 2.14\n",
      "Simulation : 2.04\n",
      "Dating : 1.86\n",
      "Arcade : 1.85\n",
      "Video Players & Editors : 1.77\n",
      "Casual : 1.76\n",
      "Maps & Navigation : 1.4\n",
      "Food & Drink : 1.24\n",
      "Puzzle : 1.13\n",
      "Racing : 0.99\n",
      "Role Playing : 0.94\n",
      "Libraries & Demo : 0.94\n",
      "Auto & Vehicles : 0.93\n",
      "Strategy : 0.91\n",
      "House & Home : 0.82\n",
      "Weather : 0.8\n",
      "Events : 0.71\n",
      "Adventure : 0.68\n",
      "Comics : 0.61\n",
      "Beauty : 0.6\n",
      "Art & Design : 0.6\n",
      "Parenting : 0.5\n",
      "Card : 0.45\n",
      "Casino : 0.43\n",
      "Trivia : 0.42\n",
      "Educational;Education : 0.39\n",
      "Board : 0.38\n",
      "Educational : 0.37\n",
      "Education;Education : 0.34\n",
      "Word : 0.26\n",
      "Casual;Pretend Play : 0.24\n",
      "Music : 0.2\n",
      "Racing;Action & Adventure : 0.17\n",
      "Puzzle;Brain Games : 0.17\n",
      "Entertainment;Music & Video : 0.17\n",
      "Casual;Brain Games : 0.14\n",
      "Casual;Action & Adventure : 0.14\n",
      "Arcade;Action & Adventure : 0.12\n",
      "Action;Action & Adventure : 0.1\n",
      "Educational;Pretend Play : 0.09\n",
      "Simulation;Action & Adventure : 0.08\n",
      "Parenting;Education : 0.08\n",
      "Entertainment;Brain Games : 0.08\n",
      "Board;Brain Games : 0.08\n",
      "Parenting;Music & Video : 0.07\n",
      "Educational;Brain Games : 0.07\n",
      "Casual;Creativity : 0.07\n",
      "Art & Design;Creativity : 0.07\n",
      "Education;Pretend Play : 0.06\n",
      "Role Playing;Pretend Play : 0.05\n",
      "Education;Creativity : 0.05\n",
      "Role Playing;Action & Adventure : 0.03\n",
      "Puzzle;Action & Adventure : 0.03\n",
      "Entertainment;Creativity : 0.03\n",
      "Entertainment;Action & Adventure : 0.03\n",
      "Educational;Creativity : 0.03\n",
      "Educational;Action & Adventure : 0.03\n",
      "Education;Music & Video : 0.03\n",
      "Education;Brain Games : 0.03\n",
      "Education;Action & Adventure : 0.03\n",
      "Adventure;Action & Adventure : 0.03\n",
      "Video Players & Editors;Music & Video : 0.02\n",
      "Sports;Action & Adventure : 0.02\n",
      "Simulation;Pretend Play : 0.02\n",
      "Puzzle;Creativity : 0.02\n",
      "Music;Music & Video : 0.02\n",
      "Entertainment;Pretend Play : 0.02\n",
      "Casual;Education : 0.02\n",
      "Board;Action & Adventure : 0.02\n",
      "Video Players & Editors;Creativity : 0.01\n",
      "Trivia;Education : 0.01\n",
      "Travel & Local;Action & Adventure : 0.01\n",
      "Tools;Education : 0.01\n",
      "Strategy;Education : 0.01\n",
      "Strategy;Creativity : 0.01\n",
      "Strategy;Action & Adventure : 0.01\n",
      "Simulation;Education : 0.01\n",
      "Role Playing;Brain Games : 0.01\n",
      "Racing;Pretend Play : 0.01\n",
      "Puzzle;Education : 0.01\n",
      "Parenting;Brain Games : 0.01\n",
      "Music & Audio;Music & Video : 0.01\n",
      "Lifestyle;Pretend Play : 0.01\n",
      "Lifestyle;Education : 0.01\n",
      "Health & Fitness;Education : 0.01\n",
      "Health & Fitness;Action & Adventure : 0.01\n",
      "Entertainment;Education : 0.01\n",
      "Communication;Creativity : 0.01\n",
      "Comics;Creativity : 0.01\n",
      "Casual;Music & Video : 0.01\n",
      "Card;Action & Adventure : 0.01\n",
      "Books & Reference;Education : 0.01\n",
      "Art & Design;Pretend Play : 0.01\n",
      "Art & Design;Action & Adventure : 0.01\n",
      "Arcade;Pretend Play : 0.01\n",
      "Adventure;Education : 0.01\n"
     ]
    }
   ],
   "source": [
    "# Genre\n",
    "display_table(android_final, -4)"
   ]
  },
  {
   "cell_type": "markdown",
   "metadata": {},
   "source": [
    "The difference between the Genres and the Category columns is not crystal clear, but one thing we can notice is that the Categories column seems more concise and meaningful than Genres . So we'll only work with the Category column moving forward.\n",
    "\n",
    "Up to this point, we found that the App Store is dominated by apps designed for fun, while Google Play shows a more balanced landscape of both practical and for-fun apps.\n",
    "\n",
    "Going ahead, we need to find about the kind of apps that have most users."
   ]
  },
  {
   "cell_type": "markdown",
   "metadata": {},
   "source": [
    "### Most Popular Apps by Category on Google Play"
   ]
  },
  {
   "cell_type": "markdown",
   "metadata": {},
   "source": [
    "To determine most popular apps (number of users) on Google Play, we can find some useful information in the `Installs` column with index number **(5)**."
   ]
  },
  {
   "cell_type": "code",
   "execution_count": 15,
   "metadata": {
    "scrolled": false
   },
   "outputs": [
    {
     "name": "stdout",
     "output_type": "stream",
     "text": [
      "1,000,000+ : 15.73\n",
      "100,000+ : 11.55\n",
      "10,000,000+ : 10.55\n",
      "10,000+ : 10.2\n",
      "1,000+ : 8.39\n",
      "100+ : 6.92\n",
      "5,000,000+ : 6.83\n",
      "500,000+ : 5.56\n",
      "50,000+ : 4.77\n",
      "5,000+ : 4.51\n",
      "10+ : 3.54\n",
      "500+ : 3.25\n",
      "50,000,000+ : 2.3\n",
      "100,000,000+ : 2.13\n",
      "50+ : 1.92\n",
      "5+ : 0.79\n",
      "1+ : 0.51\n",
      "500,000,000+ : 0.27\n",
      "1,000,000,000+ : 0.23\n",
      "0+ : 0.05\n",
      "0 : 0.01\n"
     ]
    }
   ],
   "source": [
    "# Installs columns\n",
    "\n",
    "display_table(android_final, 5)"
   ]
  },
  {
   "cell_type": "markdown",
   "metadata": {},
   "source": [
    "This data might not be precise but we just need an overview of averages of installs to form our opinion and hence, this data is sufficient for that.\n",
    "\n",
    "One major problem that this data will cause is that apps with `1,000,000,000+`, `500,000,000+`, `10,000,000+` and `1,000,000+` installs will skew the results for their respective categories and we wil have to make sure that we avoid such apps from our analysis.\n",
    "\n",
    "But this data needs to be cleaned to be computed as numbers. To do that,\n",
    "1. We will keep the numbers and convert them to float.\n",
    "2. We'll remove the commas and the plus characters.\n",
    "3. We will also compute the average number of installs for each category."
   ]
  },
  {
   "cell_type": "code",
   "execution_count": 16,
   "metadata": {
    "scrolled": false
   },
   "outputs": [
    {
     "name": "stdout",
     "output_type": "stream",
     "text": [
      "ART_AND_DESIGN : 1986335\n",
      "AUTO_AND_VEHICLES : 647318\n",
      "BEAUTY : 513152\n",
      "BOOKS_AND_REFERENCE : 8767812\n",
      "BUSINESS : 1712290\n",
      "COMICS : 817657\n",
      "COMMUNICATION : 38456119\n",
      "DATING : 854029\n",
      "EDUCATION : 1833495\n",
      "ENTERTAINMENT : 11640706\n",
      "EVENTS : 253542\n",
      "FINANCE : 1387692\n",
      "FOOD_AND_DRINK : 1924898\n",
      "HEALTH_AND_FITNESS : 4188822\n",
      "HOUSE_AND_HOME : 1331541\n",
      "LIBRARIES_AND_DEMO : 638504\n",
      "LIFESTYLE : 1437816\n",
      "GAME : 15588016\n",
      "FAMILY : 3695642\n",
      "MEDICAL : 120551\n",
      "SOCIAL : 23253652\n",
      "SHOPPING : 7036877\n",
      "PHOTOGRAPHY : 17840110\n",
      "SPORTS : 3638640\n",
      "TRAVEL_AND_LOCAL : 13984078\n",
      "TOOLS : 10801391\n",
      "PERSONALIZATION : 5201483\n",
      "PRODUCTIVITY : 16787331\n",
      "PARENTING : 542604\n",
      "WEATHER : 5074486\n",
      "VIDEO_PLAYERS : 24727872\n",
      "NEWS_AND_MAGAZINES : 9549178\n",
      "MAPS_AND_NAVIGATION : 4056942\n"
     ]
    }
   ],
   "source": [
    "# Cleaning the installs strings and printing category avergaes.\n",
    "categories_android = freq_table(android_final, 1)\n",
    "\n",
    "for category in categories_android:\n",
    "    total = 0\n",
    "    len_category = 0\n",
    "    for app in android_final:\n",
    "        category_app = app[1]\n",
    "        if category_app == category:            \n",
    "            n_installs = app[5]\n",
    "            n_installs = n_installs.replace(',', '')\n",
    "            n_installs = n_installs.replace('+', '')\n",
    "            total += float(n_installs)\n",
    "            len_category += 1\n",
    "    avg_n_installs = total / len_category\n",
    "    print(category, ':', round(avg_n_installs))"
   ]
  },
  {
   "cell_type": "markdown",
   "metadata": {},
   "source": [
    "Communication has the highest installs on average at 38,456,119, followed by Video Players at 24,727,872 and Social at 23,253,652.\n",
    "\n",
    "But I suspect that these averages can be skewed due to a few market leaders and we don't aim to compete with them.\n",
    "\n",
    "We have to find categories that are popular but not so much competitive, therefore we will test for this hypothesis and if it turns out right, we will only consider apps with installs less than `100,000,000+` but more than `100,000+`."
   ]
  },
  {
   "cell_type": "code",
   "execution_count": 17,
   "metadata": {
    "scrolled": false
   },
   "outputs": [
    {
     "name": "stdout",
     "output_type": "stream",
     "text": [
      "COMMUNICATION\n",
      "\n",
      "WhatsApp Messenger : 1,000,000,000+\n",
      "imo beta free calls and text : 100,000,000+\n",
      "Android Messages : 100,000,000+\n",
      "Google Duo - High Quality Video Calls : 500,000,000+\n",
      "Messenger – Text and Video Chat for Free : 1,000,000,000+\n",
      "imo free video calls and chat : 500,000,000+\n",
      "Skype - free IM & video calls : 1,000,000,000+\n",
      "Who : 100,000,000+\n",
      "GO SMS Pro - Messenger, Free Themes, Emoji : 100,000,000+\n",
      "LINE: Free Calls & Messages : 500,000,000+\n",
      "Google Chrome: Fast & Secure : 1,000,000,000+\n",
      "Firefox Browser fast & private : 100,000,000+\n",
      "UC Browser - Fast Download Private & Secure : 500,000,000+\n",
      "Gmail : 1,000,000,000+\n",
      "Hangouts : 1,000,000,000+\n",
      "Messenger Lite: Free Calls & Messages : 100,000,000+\n",
      "Kik : 100,000,000+\n",
      "KakaoTalk: Free Calls & Text : 100,000,000+\n",
      "Opera Mini - fast web browser : 100,000,000+\n",
      "Opera Browser: Fast and Secure : 100,000,000+\n",
      "Telegram : 100,000,000+\n",
      "Truecaller: Caller ID, SMS spam blocking & Dialer : 100,000,000+\n",
      "UC Browser Mini -Tiny Fast Private & Secure : 100,000,000+\n",
      "Viber Messenger : 500,000,000+\n",
      "WeChat : 100,000,000+\n",
      "Yahoo Mail – Stay Organized : 100,000,000+\n",
      "BBM - Free Calls & Messages : 100,000,000+\n",
      "\n",
      "\n",
      "PRODUCTIVITY\n",
      "\n",
      "Microsoft Word : 500,000,000+\n",
      "Microsoft Outlook : 100,000,000+\n",
      "Microsoft OneDrive : 100,000,000+\n",
      "Microsoft OneNote : 100,000,000+\n",
      "Google Keep : 100,000,000+\n",
      "ES File Explorer File Manager : 100,000,000+\n",
      "Dropbox : 500,000,000+\n",
      "Google Docs : 100,000,000+\n",
      "Microsoft PowerPoint : 100,000,000+\n",
      "Samsung Notes : 100,000,000+\n",
      "SwiftKey Keyboard : 100,000,000+\n",
      "Google Drive : 1,000,000,000+\n",
      "Adobe Acrobat Reader : 100,000,000+\n",
      "Google Sheets : 100,000,000+\n",
      "Microsoft Excel : 100,000,000+\n",
      "WPS Office - Word, Docs, PDF, Note, Slide & Sheet : 100,000,000+\n",
      "Google Slides : 100,000,000+\n",
      "ColorNote Notepad Notes : 100,000,000+\n",
      "Evernote – Organizer, Planner for Notes & Memos : 100,000,000+\n",
      "Google Calendar : 500,000,000+\n",
      "Cloud Print : 500,000,000+\n",
      "CamScanner - Phone PDF Creator : 100,000,000+\n"
     ]
    }
   ],
   "source": [
    "# Testing above hypothesis\n",
    "\n",
    "print('COMMUNICATION\\n')\n",
    "for app in android_final:\n",
    "    if app[1] == 'COMMUNICATION' and (app[5] == '1,000,000,000+'\n",
    "                                      or app[5] == '500,000,000+'\n",
    "                                      or app[5] == '100,000,000+'):\n",
    "        print(app[0], ':', app[5])\n",
    "\n",
    "print('\\n')\n",
    "\n",
    "print('PRODUCTIVITY\\n')\n",
    "for app in android_final:\n",
    "    if app[1] == 'PRODUCTIVITY' and (app[5] == '1,000,000,000+'\n",
    "                                      or app[5] == '500,000,000+'\n",
    "                                      or app[5] == '100,000,000+'):\n",
    "        \n",
    "        print(app[0], ':', app[5])\n"
   ]
  },
  {
   "cell_type": "markdown",
   "metadata": {},
   "source": [
    "Looking at the above output, we can easily say that Apps from giants such as Whatsapp, Google, Microsoft and more are easily dominating their domains and skewing the data.\n",
    "\n",
    "Therefore, we will avoid considering apps with installs greater than 100 Million. Also, to find meaningfully popular apps we will consider apps with installs more than 100 Thousand. "
   ]
  },
  {
   "cell_type": "code",
   "execution_count": 18,
   "metadata": {
    "scrolled": false
   },
   "outputs": [
    {
     "name": "stdout",
     "output_type": "stream",
     "text": [
      "ART_AND_DESIGN : 3317647\n",
      "AUTO_AND_VEHICLES : 1147826\n",
      "BEAUTY : 1116667\n",
      "BOOKS_AND_REFERENCE : 3154762\n",
      "BUSINESS : 4813592\n",
      "COMICS : 1435484\n",
      "COMMUNICATION : 6832847\n",
      "DATING : 1872000\n",
      "EDUCATION : 2048913\n",
      "ENTERTAINMENT : 6274359\n",
      "EVENTS : 826316\n",
      "FINANCE : 2472028\n",
      "FOOD_AND_DRINK : 2855405\n",
      "HEALTH_AND_FITNESS : 3269880\n",
      "HOUSE_AND_HOME : 1828302\n",
      "LIBRARIES_AND_DEMO : 1587879\n",
      "LIFESTYLE : 2909559\n",
      "GAME : 8068269\n",
      "FAMILY : 4478226\n",
      "MEDICAL : 508451\n",
      "SOCIAL : 5631967\n",
      "SHOPPING : 6474820\n",
      "PHOTOGRAPHY : 10140984\n",
      "SPORTS : 5354491\n",
      "TRAVEL_AND_LOCAL : 5257522\n",
      "TOOLS : 6277322\n",
      "PERSONALIZATION : 5201429\n",
      "PRODUCTIVITY : 6453254\n",
      "PARENTING : 914706\n",
      "WEATHER : 6003333\n",
      "VIDEO_PLAYERS : 9034783\n",
      "NEWS_AND_MAGAZINES : 3248673\n",
      "MAPS_AND_NAVIGATION : 4584848\n"
     ]
    }
   ],
   "source": [
    "# Printing average app installs by category between 100 Thousand to 100 Million\n",
    "\n",
    "for category in categories_android:\n",
    "    total = 0\n",
    "    len_category = 0\n",
    "    for app in android_final:\n",
    "        category_app = app[1]\n",
    "        if category_app == category:\n",
    "            n_installs = app[5]\n",
    "            n_installs = n_installs.replace(',', '')\n",
    "            n_installs = n_installs.replace('+', '')\n",
    "            if (float(n_installs) > 99999 and float(n_installs) < 100000000):\n",
    "                total += float(n_installs)\n",
    "                len_category += 1\n",
    "    avg_n_installs = total / len_category\n",
    "    \n",
    "    print(category, ':', round(avg_n_installs))"
   ]
  },
  {
   "attachments": {},
   "cell_type": "markdown",
   "metadata": {},
   "source": [
    "Looking at the above output, we can deduce that:\n",
    "\n",
    "- Photography Category has highest number of average installs, followed by Video Players and Game.\n",
    "- Medical, Events and Parenting categories are the genres with least number of average reviews.\n",
    "\n",
    "We need to refine the categories further find suitable categories for our business."
   ]
  },
  {
   "cell_type": "markdown",
   "metadata": {},
   "source": [
    "##### Suitable Google Play Store Categories"
   ]
  },
  {
   "attachments": {},
   "cell_type": "markdown",
   "metadata": {},
   "source": [
    "1. **Elimination of unsuitable categories**\n",
    "\n",
    "We will be eliminating following categories:\n",
    "- Medical, Events and Parenting categories have least popular apps and hence, they are being eliminated from further consideration.\n",
    "- Photography category is the most popular category but users generally use built-in Photography apps or apps that are market leaders.\n",
    "- Game, Productivity and Tools niches are highly saturated.\n",
    "- Video players, Entertainment, Communication and Social categories are dominated by market leaders and very tough to compete against.\n",
    "- Apps in the Shopping, Finance or Food categories are actually a totally different business and not an app business and hence they are being discarded as well.\n",
    "- Categories like Weather, Maps and Navigation and Personalisation don't have high usage time and hence, our ad revenues will be negligble and so they are being rejected as well.\n",
    "\n",
    "2. **Selection of suitable categories**\n",
    "\n",
    "We will be selecting following categories for testing:\n",
    "- Business apps as businesses are generally willing to spend more money than regular consumers.\n",
    "- Sports apps have high usage time and can be a good source of revenue.\n",
    "- Books and References, and Comics apps seem quite similar in nature except for the content they provide but users spend higher amount of time on them.\n",
    "\n",
    "3. **Checking suitable categories**\n",
    "\n",
    "We will testing the above selected categories one by one and make our selections based on that."
   ]
  },
  {
   "cell_type": "code",
   "execution_count": 19,
   "metadata": {
    "scrolled": false
   },
   "outputs": [
    {
     "name": "stdout",
     "output_type": "stream",
     "text": [
      "Business\n",
      "\n",
      "Visual Voicemail by MetroPCS : 10,000,000+\n",
      "Indeed Job Search : 50,000,000+\n",
      "Uber Driver : 10,000,000+\n",
      "Snag - Jobs Hiring Now : 1,000,000+\n",
      "Docs To Go™ Free Office Suite : 50,000,000+\n",
      "USPS MOBILE® : 1,000,000+\n",
      "Job Search by ZipRecruiter : 1,000,000+\n",
      "Google Primer : 10,000,000+\n",
      "SuperLivePro : 1,000,000+\n",
      "OfficeSuite Pro + PDF (Trial) : 10,000,000+\n",
      "My Space - Employment Center : 1,000,000+\n",
      "Box : 10,000,000+\n",
      "Plugin:AOT v5.0 : 100,000+\n",
      "Kariyer.net : 1,000,000+\n",
      "SEEK Job Search : 1,000,000+\n",
      "Become a Job - Find a job or advertise : 1,000,000+\n",
      "ZOOM Cloud Meetings : 10,000,000+\n",
      "ViettelPost express delivery : 100,000+\n",
      "MyASUS - Service Center : 10,000,000+\n",
      "Job Korea - Career Jobs : 1,000,000+\n",
      "104 Looking for a job - looking for a job, looking for a job, looking for a part-time job, health checkup, resume, treatment room : 1,000,000+\n",
      "Myanmar 2D/3D : 100,000+\n",
      "sABN : 1,000,000+\n",
      "ATI Cargoes and Transportation : 100,000+\n",
      "Secure Folder : 50,000,000+\n",
      "Y! Mobile menu : 100,000+\n",
      "SignEasy | Sign and Fill PDF and other Documents : 1,000,000+\n",
      "Genius Scan - PDF Scanner : 1,000,000+\n",
      "Tiny Scanner - PDF Scanner App : 10,000,000+\n",
      "Fast Scanner : Free PDF Scan : 10,000,000+\n",
      "Mobile Doc Scanner (MDScan) Lite : 1,000,000+\n",
      "FreshBooks Classic : 100,000+\n",
      "Insightly CRM : 100,000+\n",
      "QuickBooks Accounting: Invoicing & Expenses : 1,000,000+\n",
      "HipChat - Chat Built for Teams : 500,000+\n",
      "Xero Accounting Software : 100,000+\n",
      "MailChimp - Email, Marketing Automation : 500,000+\n",
      "Crew - Free Messaging and Scheduling : 500,000+\n",
      "Asana: organize team projects : 1,000,000+\n",
      "Google Analytics : 1,000,000+\n",
      "AdWords Express : 1,000,000+\n",
      "Accounting App - Zoho Books : 100,000+\n",
      "Invoice & Time Tracking - Zoho : 100,000+\n",
      "join.me - Simple Meetings : 1,000,000+\n",
      "Invoice 2go — Professional Invoices and Estimates : 1,000,000+\n",
      "Cisco Webex Meetings : 10,000,000+\n",
      "ScreenMeet. Easy Phone Meeting : 100,000+\n",
      "Cisco Webex Teams : 100,000+\n",
      "ClickMeeting Webinars : 1,000,000+\n",
      "BlueJeans for Android : 500,000+\n",
      "Skype for Business for Android : 10,000,000+\n",
      "Vault-Hide SMS,Pics & Videos,App Lock,Cloud backup : 50,000,000+\n",
      "V-CUBE Seminar Mobile : 100,000+\n",
      "AC Freedom : 100,000+\n",
      "Bing Ads : 100,000+\n",
      "Create apps fast with beautiful design and no code : 1,000,000+\n",
      "Resume Builder Free, 5 Minute CV Maker & Templates : 1,000,000+\n",
      "Augment - 3D Augmented Reality : 1,000,000+\n",
      "AirWatch Inbox : 1,000,000+\n",
      "Business Dictionary : 500,000+\n",
      "XXX DISTILLERY : 100,000+\n",
      "JOBS.bg : 100,000+\n",
      "Microsoft Power BI–Business data analytics : 100,000+\n",
      "BN Mi Banco : 100,000+\n",
      "BZ Reminder : 1,000,000+\n",
      "Good&Co: Career match tests : 1,000,000+\n",
      "Curriculum vitae App CV Builder Free Resume Maker : 500,000+\n",
      "Free Resume App : 1,000,000+\n",
      "Curriculum Vitae : 1,000,000+\n",
      "Free resume builder CV maker templates PDF formats : 1,000,000+\n",
      "Resume Builder - Free CV Maker & Premium Templates : 100,000+\n",
      "Resume PDF Maker / CV Builder : 500,000+\n",
      "CV S ( CV Editor - Resume ) : 100,000+\n",
      "HOW TO WRITE A CV : 100,000+\n",
      "CV EXAMPLES : 100,000+\n",
      "Resume Builder Free, CV Maker & Resume Templates : 1,000,000+\n",
      "Resume App : 1,000,000+\n",
      "Resume Maker:Free CV Maker,Templates Builder : 100,000+\n",
      "CV-Library Job Search : 100,000+\n",
      "VisualCV Resume Builder : 100,000+\n",
      "PDF Reader - Scan、Edit & Share : 10,000,000+\n",
      "TANGEDCO Mobile App (Official) : 500,000+\n",
      "TNEB : 100,000+\n",
      "eHub : 100,000+\n",
      "ES Task Manager (Task Killer ) : 10,000,000+\n",
      "Facebook Face to Face Events : 1,000,000+\n",
      "Facebook Pages Manager : 50,000,000+\n",
      "Facebook Ads Manager : 1,000,000+\n"
     ]
    }
   ],
   "source": [
    "print('Business\\n')\n",
    "for app in android_final:\n",
    "    if app[1] == 'BUSINESS' and (app[5] == '50,000,000+'\n",
    "                                 or app[5] == '10,000,000+'\n",
    "                                 or app[5] == '5,000,000++'\n",
    "                                 or app[5] == '1,000,000+'\n",
    "                                 or app[5] == '500,000+'\n",
    "                                 or app[5] == '100,000+'\n",
    "                                ):\n",
    "        \n",
    "        print(app[0], ':', app[5])"
   ]
  },
  {
   "cell_type": "markdown",
   "metadata": {},
   "source": [
    "Looking at Business category, it is clear that even though this category have apps related to a particular business, there are many apps such as Job Search apps or any other business tools that seem to have high potential for revenue and hence it seems like a good category."
   ]
  },
  {
   "cell_type": "code",
   "execution_count": 20,
   "metadata": {
    "scrolled": false
   },
   "outputs": [
    {
     "name": "stdout",
     "output_type": "stream",
     "text": [
      "Sports\n",
      "\n",
      "Free Sports TV : 100,000+\n",
      "LiveScore: Live Sport Updates : 10,000,000+\n",
      "Onefootball - Soccer Scores : 10,000,000+\n",
      "Cristiano Ronaldo Wallpaper : 500,000+\n",
      "Futbol24 : 1,000,000+\n",
      "BeSoccer - Soccer Live Score : 10,000,000+\n",
      "Sport.pl LIVE : 1,000,000+\n",
      "Foot Mercato: transfers, results, news, live : 1,000,000+\n",
      "All Football - Latest News & Videos : 10,000,000+\n",
      "Eurosport : 10,000,000+\n",
      "beIN SPORTS TR : 10,000,000+\n",
      "All Football GO- Live Score, Games : 100,000+\n",
      "Top Mercato: football news : 1,000,000+\n",
      "GollerCepte Live Score : 1,000,000+\n",
      "Championat : 1,000,000+\n",
      "Hovercraft Racer : 100,000+\n",
      "World Cup 2018 : 500,000+\n",
      "GollerCepte 1903 : 500,000+\n",
      "League18 : 500,000+\n",
      "Speed Boat Racing : 1,000,000+\n",
      "La Liga - Spanish Soccer League Official : 10,000,000+\n",
      "Lionel Messi Wallpapers : 100,000+\n",
      "NUsport : 100,000+\n",
      "U + professional baseball : 500,000+\n",
      "Mackolik Live Results : 10,000,000+\n",
      "Mercato foot by Maxifoot : 100,000+\n",
      "MUTV - Manchester United TV : 500,000+\n",
      "Hole19: Golf GPS App, Rangefinder & Scorecard : 100,000+\n",
      "WatchESPN : 10,000,000+\n",
      "CBS Sports Fantasy : 1,000,000+\n",
      "NBC Sports Gold : 100,000+\n",
      "UFC : 1,000,000+\n",
      "Telemundo Deportes - Live : 1,000,000+\n",
      "SwingAid - Level up Golf : 100,000+\n",
      "Golf Channel : 1,000,000+\n",
      "The Rules of Golf : 100,000+\n",
      "GolfNow: Tee Time Deals at Golf Courses, Golf GPS : 1,000,000+\n",
      "Golf GPS by SwingxSwing : 1,000,000+\n",
      "Zepp Golf Swing Analyzer : 100,000+\n",
      "Golfshot: Golf GPS + Tee Times : 500,000+\n",
      "PGA TOUR LIVE : 100,000+\n",
      "Golf GPS Rangefinder: Golf Pad : 1,000,000+\n",
      "Mobitee GPS Golf Free : 100,000+\n",
      "GolfLogix GPS + Putt Breaks : 1,000,000+\n",
      "PGA TOUR : 1,000,000+\n",
      "FanDuel: Daily Fantasy Sports : 1,000,000+\n",
      "DraftKings - Daily Fantasy Sports : 1,000,000+\n",
      "Fantasy Football Manager (FPL) : 1,000,000+\n",
      "Fantasy Football : 1,000,000+\n",
      "ESPN : 10,000,000+\n",
      "US Open Tennis Championships 2018 : 1,000,000+\n",
      "Tennis Temple - Live Scores : 100,000+\n",
      "The Championships, Wimbledon 2018 : 1,000,000+\n",
      "theScore: Live Sports Scores, News, Stats & Videos : 10,000,000+\n",
      "Tennis 24 - tennis live scores : 100,000+\n",
      "Yahoo Sports - scores, stats, news, & highlights : 1,000,000+\n",
      "MSN Sports - Scores & Schedule : 500,000+\n",
      "FotMob - Live Soccer Scores : 10,000,000+\n",
      "Sports Alerts - NFL edition : 100,000+\n",
      "NFL : 50,000,000+\n",
      "SportsManias Fantasy Team News : 500,000+\n",
      "Thuuz Sports : 500,000+\n",
      "NCAA Sports : 500,000+\n",
      "FIFA - Tournaments, Soccer News & Live Scores : 10,000,000+\n",
      "365Scores - Live Scores : 10,000,000+\n",
      "Cricbuzz - Live Cricket Scores & News : 50,000,000+\n",
      "Fantasy Football & NFL News : 100,000+\n",
      "NBA : 10,000,000+\n",
      "BBC Sport : 1,000,000+\n",
      "NASCAR MOBILE : 1,000,000+\n",
      "MLB Ballpark : 1,000,000+\n",
      "Real Basketball : 10,000,000+\n",
      "Basketball Stars : 10,000,000+\n",
      "Be A Legend: Soccer : 1,000,000+\n",
      "theScore esports : 500,000+\n",
      "Wrestling Revolution 3D : 50,000,000+\n",
      "I'm Ping Pong King :) : 1,000,000+\n",
      "AE Basketball : 1,000,000+\n",
      "AE Archer : 500,000+\n",
      "Ah! Bird : 100,000+\n",
      "PES 2018 PRO EVOLUTION SOCCER : 10,000,000+\n",
      "SofaScore Live Score : 10,000,000+\n",
      "Ultimate Tennis : 10,000,000+\n",
      "Soccer Star 2018 Top Leagues · MLS Soccer Games : 10,000,000+\n",
      "Range Master: Sniper Academy : 10,000,000+\n",
      "3D Tennis : 50,000,000+\n",
      "WGT Golf Game by Topgolf : 10,000,000+\n",
      "AS - News and sports results. : 1,000,000+\n",
      "AS Guía de las Ligas 2017-2018 : 100,000+\n",
      "PBA® Bowling Challenge : 10,000,000+\n",
      "BD CRICKET LIVE : 100,000+\n",
      "BANGLA TV 3G/4G : 100,000+\n",
      "Be the Manager 2018 - Football Strategy : 100,000+\n",
      "Top Eleven 2018 - Be a Soccer Manager : 50,000,000+\n",
      "Be the Manager 2016 (football) : 100,000+\n",
      "Pool Billiards Classic - bi a : 1,000,000+\n",
      "B.M.Snowboard Free : 1,000,000+\n",
      "Basket Manager 2017 Free : 100,000+\n",
      "Basket Manager 2016 Free : 100,000+\n",
      "Fists For Fighting (Fx3) : 10,000,000+\n",
      "CX_WiFiUFO : 100,000+\n",
      "Soccer FC : 1,000,000+\n",
      "Bike 3D Configurator : 1,000,000+\n",
      "DK Live - Sports Play by Play : 100,000+\n",
      "Monster Fishing 2018 : 1,000,000+\n",
      "Soccer Manager 2018 : 1,000,000+\n",
      "Online Soccer Manager (OSM) : 10,000,000+\n",
      "PES CLUB MANAGER : 10,000,000+\n",
      "Top Soccer Manager : 10,000,000+\n",
      "Soccer Board Tactics : 100,000+\n",
      "WiFi Action Camera : 100,000+\n",
      "PORTABLE SOCCER DX Lite : 1,000,000+\n",
      "EA SPORTS UFC® : 50,000,000+\n",
      "NBA LIVE Mobile Basketball : 50,000,000+\n",
      "EA SPORTS™ FIFA 18 Companion : 10,000,000+\n",
      "FIFA 16 Soccer : 10,000,000+\n",
      "MLB Perfect Inning 2018 : 1,000,000+\n",
      "Real Football : 10,000,000+\n",
      "Esporte Interativo - Notícias e Resultados Ao Vivo : 500,000+\n",
      "Esporte Interativo Plus : 1,000,000+\n",
      "Yoong: Kick 'Em Up! : 100,000+\n",
      "Telemundo Deportes - En Vivo : 1,000,000+\n",
      "Soccer 2018 : 10,000,000+\n",
      "FC Barcelona Fantasy Manager: Real football mobile : 1,000,000+\n",
      "FC Barcelona Official Keyboard : 500,000+\n",
      "FC Bayern Munich : 1,000,000+\n",
      "1. FC Köln App : 100,000+\n",
      "FC Porto : 100,000+\n",
      "The 5th Stand : 100,000+\n",
      "FC Zenit official Android app : 100,000+\n",
      "Mobile FC : 100,000+\n",
      "Leghe Fantagazzetta : 1,000,000+\n",
      "Field Goal Tournament : 100,000+\n",
      "FL Racing Manager 2018 Lite : 100,000+\n",
      "Mobile Kick : 10,000,000+\n"
     ]
    }
   ],
   "source": [
    "print('Sports\\n')\n",
    "for app in android_final:\n",
    "    if app[1] == 'SPORTS' and (app[5] == '50,000,000+'\n",
    "                                 or app[5] == '10,000,000+'\n",
    "                                 or app[5] == '5,000,000++'\n",
    "                                 or app[5] == '1,000,000+'\n",
    "                                 or app[5] == '500,000+'\n",
    "                                 or app[5] == '100,000+'\n",
    "                                ):\n",
    "        \n",
    "        print(app[0], ':', app[5])"
   ]
  },
  {
   "cell_type": "markdown",
   "metadata": {},
   "source": [
    "Majority of Sports apps are games, soccer team apps, sports TV apps or sports news or information apps. Out of all of them, Sports Information apps seems like a good choice."
   ]
  },
  {
   "cell_type": "code",
   "execution_count": 21,
   "metadata": {
    "scrolled": false
   },
   "outputs": [
    {
     "name": "stdout",
     "output_type": "stream",
     "text": [
      "Books And Reference \n",
      "\n",
      "Download free book with green book : 100,000+\n",
      "Wikipedia : 10,000,000+\n",
      "Cool Reader : 10,000,000+\n",
      "Free Panda Radio Music : 100,000+\n",
      "Book store : 1,000,000+\n",
      "FBReader: Favorite Book Reader : 10,000,000+\n",
      "English Grammar Complete Handbook : 500,000+\n",
      "Free Books - Spirit Fanfiction and Stories : 1,000,000+\n",
      "Offline English Dictionary : 100,000+\n",
      "Offline: English to Tagalog Dictionary : 500,000+\n",
      "FamilySearch Tree : 1,000,000+\n",
      "Cloud of Books : 1,000,000+\n",
      "Recipes of Prophetic Medicine for free : 500,000+\n",
      "ReadEra – free ebook reader : 1,000,000+\n",
      "Litnet - E-books : 100,000+\n",
      "English to Urdu Dictionary : 500,000+\n",
      "eBoox: book reader fb2 epub zip : 1,000,000+\n",
      "English Persian Dictionary : 500,000+\n",
      "Flybook : 500,000+\n",
      "All Maths Formulas : 1,000,000+\n",
      "HTC Help : 10,000,000+\n",
      "English translation from Bengali : 100,000+\n",
      "Pdf Book Download - Read Pdf Book : 100,000+\n",
      "Free Book Reader : 100,000+\n",
      "Only 30 days in English, the guideline is guaranteed : 500,000+\n",
      "Moon+ Reader : 10,000,000+\n",
      "English-Myanmar Dictionary : 1,000,000+\n",
      "Golden Dictionary (EN-AR) : 1,000,000+\n",
      "All Language Translator Free : 1,000,000+\n",
      "Azpen eReader : 500,000+\n",
      "URBANO V 02 instruction manual : 100,000+\n",
      "Aab e Hayat Full Novel : 100,000+\n",
      "Aldiko Book Reader : 10,000,000+\n",
      "Google I/O 2018 : 500,000+\n",
      "V Made : 100,000+\n",
      "Guide (for X-MEN) : 100,000+\n",
      "Al-Quran (Free) : 10,000,000+\n",
      "Al Quran (Tafsir & by Word) : 500,000+\n",
      "Al Quran Indonesia : 10,000,000+\n",
      "Al'Quran Bahasa Indonesia : 10,000,000+\n",
      "Al Quran Al karim : 1,000,000+\n",
      "Al-Quran 30 Juz free copies : 500,000+\n",
      "Koran Read &MP3 30 Juz Offline : 1,000,000+\n",
      "Hafizi Quran 15 lines per page : 1,000,000+\n",
      "Quran for Android : 10,000,000+\n",
      "Surah Al-Waqiah : 100,000+\n",
      "Hisnul Al Muslim - Hisn Invocations & Adhkaar : 100,000+\n",
      "Satellite AR : 1,000,000+\n",
      "Oxford A-Z of English Usage : 1,000,000+\n",
      "Youboox - Livres, BD et magazines : 500,000+\n",
      "Dictionary.com: Find Definitions for English Words : 10,000,000+\n",
      "English Dictionary - Offline : 10,000,000+\n",
      "NOOK: Read eBooks & Magazines : 10,000,000+\n",
      "NOOK Audiobooks : 500,000+\n",
      "NOOK App for NOOK Devices : 500,000+\n",
      "Brilliant Quotes: Life, Love, Family & Motivation : 1,000,000+\n",
      "cloudLibrary : 100,000+\n",
      "Sabbath School : 100,000+\n",
      "Stats Royale for Clash Royale : 1,000,000+\n",
      "How to Write CV : 100,000+\n",
      "Dictionary : 10,000,000+\n",
      "wikiHow: how to do anything : 1,000,000+\n",
      "EGW Writings 2 : 100,000+\n",
      "EGW Writings : 1,000,000+\n",
      "Bible with EGW Comments : 100,000+\n",
      "My Little Pony AR Guide : 1,000,000+\n",
      "SDA Sabbath School Quarterly : 500,000+\n",
      "Spanish English Translator : 10,000,000+\n",
      "Dictionary - Merriam-Webster : 10,000,000+\n",
      "JW Library : 10,000,000+\n",
      "Oxford Dictionary of English : Free : 10,000,000+\n",
      "English Hindi Dictionary : 10,000,000+\n",
      "Hymnes et Louanges : 100,000+\n",
      "BakaReader EX : 100,000+\n",
      "Golden Dictionary (FR-AR) : 500,000+\n"
     ]
    }
   ],
   "source": [
    "print('Books And Reference \\n')\n",
    "for app in android_final:\n",
    "    if app[1] == 'BOOKS_AND_REFERENCE' and (app[5] == '50,000,000+'\n",
    "                                 or app[5] == '10,000,000+'\n",
    "                                 or app[5] == '5,000,000++'\n",
    "                                 or app[5] == '1,000,000+'\n",
    "                                 or app[5] == '500,000+'\n",
    "                                 or app[5] == '100,000+'\n",
    "                                ):\n",
    "        \n",
    "        print(app[0], ':', app[5])"
   ]
  },
  {
   "cell_type": "markdown",
   "metadata": {},
   "source": [
    "This niche seems to show some potential. One thing we could do is take another popular book and turn it into an app where we could add different features besides the raw version of the book. This might include daily quotes from the book, an audio version of the book, quizzes about the book, etc. We could also embed a dictionary within the app.\n",
    "\n",
    "Therefore, our finalized niches from Google Play Store are:\n",
    "1. **Business**\n",
    "2. **Sports**\n",
    "3. **Books and Reference**"
   ]
  },
  {
   "cell_type": "markdown",
   "metadata": {},
   "source": [
    "### Most Popular Apps by Category on the Apple App Store"
   ]
  },
  {
   "cell_type": "markdown",
   "metadata": {},
   "source": [
    "For the Google Play data set, we have the Installs column, but for the App Store data set this information is missing. \n",
    "\n",
    "Therefore, we'll take the total number of user ratings as a criteria for the popular apps, which we can find in the `rating_count_tot` column with index number **(5)**."
   ]
  },
  {
   "cell_type": "code",
   "execution_count": 22,
   "metadata": {
    "scrolled": false
   },
   "outputs": [
    {
     "name": "stdout",
     "output_type": "stream",
     "text": [
      "Social Networking : 71548\n",
      "Photo & Video : 28442\n",
      "Games : 22789\n",
      "Music : 57327\n",
      "Reference : 74942\n",
      "Health & Fitness : 23298\n",
      "Weather : 52280\n",
      "Utilities : 18684\n",
      "Travel : 28244\n",
      "Shopping : 26920\n",
      "News : 21248\n",
      "Navigation : 86090\n",
      "Lifestyle : 16486\n",
      "Entertainment : 14030\n",
      "Food & Drink : 33334\n",
      "Sports : 23009\n",
      "Book : 39758\n",
      "Finance : 31468\n",
      "Education : 7004\n",
      "Productivity : 21028\n",
      "Business : 7491\n",
      "Catalogs : 4004\n",
      "Medical : 612\n"
     ]
    }
   ],
   "source": [
    "# Calculating the average number of user ratings per app genre on the App Store\n",
    "\n",
    "genres_ios = freq_table(ios_final, -5)\n",
    "\n",
    "for genre in genres_ios:\n",
    "    total = 0\n",
    "    len_genre = 0\n",
    "    for app in ios_final:\n",
    "        genre_app = app[-5]\n",
    "        if genre_app == genre:\n",
    "            user_ratings = float(app[5])\n",
    "            total += user_ratings\n",
    "            len_genre += 1\n",
    "            \n",
    "    avg_ratings = total / len_genre\n",
    "    print(genre, ':', round(avg_ratings))"
   ]
  },
  {
   "cell_type": "markdown",
   "metadata": {},
   "source": [
    "Looking at the above output, we can deduce that:\n",
    "\n",
    "- Navigation Genre has highest number of average reviews, followed by Reference and Social Networking.\n",
    "- Medical, Catalogs and Education genre are the genres with least number of average reviews."
   ]
  },
  {
   "cell_type": "markdown",
   "metadata": {},
   "source": [
    "##### Suitable App Store Genres"
   ]
  },
  {
   "cell_type": "markdown",
   "metadata": {},
   "source": [
    "1. **Elimination of unsuitable genres**\n",
    "\n",
    "We will be eliminating all the genres that we eliminated for Google Play Store for similar reasons becasue iOS Apps will be developed later on and Android apps will be our testing field.\n",
    "\n",
    "2. **Selection of suitable categories**\n",
    "\n",
    "Similarly, we will be selecting Business, Sports, Book and Reference genres which are also suitable for Google Play Store.\n",
    "\n",
    "3. **Checking suitable categories**\n",
    "\n",
    "We will testing the above selected categories one by one and make our selections based on that."
   ]
  },
  {
   "cell_type": "code",
   "execution_count": 23,
   "metadata": {
    "scrolled": false
   },
   "outputs": [
    {
     "name": "stdout",
     "output_type": "stream",
     "text": [
      "Business\n",
      "\n",
      "Indeed Job Search : 38681\n",
      "Flashlight ◎ : 24744\n",
      "Adobe Acrobat Reader: View, Create, & Convert PDFs : 20069\n",
      "Scanner App - PDF Document Scan : 11696\n",
      "SayHi Translate : 8623\n",
      "ADP Mobile Solutions : 8324\n",
      "Sideline - 2nd Phone Number : 7907\n",
      "Uber Driver : 3289\n",
      "AirWatch Agent : 1150\n",
      "VPN Go - Safe Fast & Stable VPN Proxy : 881\n",
      "Cisco AnyConnect : 825\n",
      "GreenVPN - Free & fast VPN with unlimited traffic : 464\n",
      "iPlum Business Phone Number for Calling & Texting : 392\n",
      "OPEN Forum : 200\n",
      "Pulse Secure : 53\n",
      "DingTalk : 40\n",
      "Mon Espace - Pôle emploi : 11\n",
      "\n",
      "\n",
      "Sports\n",
      "\n",
      "ESPN: Get scores, news, alerts & watch live sports : 290996\n",
      "Yahoo Fantasy Sports : 190670\n",
      "WatchESPN : 159735\n",
      "The Masters Tournament : 148160\n",
      "Yahoo Sports - Teams, Scores, News & Highlights : 137951\n",
      "ESPN Fantasy Football Baseball Basketball Hockey : 64925\n",
      "CBS Sports App - Sports Scores, News, Stats, Watch : 59639\n",
      "FOX Sports Mobile : 57500\n",
      "2016 U.S. Open Golf Championship : 54192\n",
      "NBC Sports : 47172\n",
      "NBA : 43682\n",
      "ESPN Tournament Challenge : 39642\n",
      "2016 US Open Tennis Championships : 37522\n",
      "NFL : 27317\n",
      "MLB.com At Bat : 21830\n",
      "The Championships, Wimbledon 2016 - Tennis Grand Slam : 20953\n",
      "DraftKings - Daily Fantasy Golf, Baseball, & More : 20251\n",
      "Bleacher Report: Sports news, scores, & highlights : 16979\n",
      "Univision Deportes: Liga MX, MLS, Fútbol En Vivo : 16683\n",
      "NASCAR MOBILE : 16385\n",
      "NHL : 15554\n",
      "FOX Sports GO : 13898\n",
      "NCAA March Madness Live - Men's College Basketball : 13572\n",
      "PGA Championship 2016 – Baltusrol Golf Club : 10472\n",
      "365Scores : 9879\n",
      "NFL Fantasy Football - Official NFL Fantasy App : 8234\n",
      "FanDuel - Daily Fantasy Baseball, Golf & Sports : 8014\n",
      "GolfNow – Book Tee Times, Golf GPS, Scorecard : 7535\n",
      "Ryder Cup 2016 – Hazeltine National Golf Club : 3818\n",
      "Onefootball - Soccer Scores & Live News : 3194\n",
      "NFL HUDDLE: Football Card Trader : 2896\n",
      "KICK: Official Football Card Trader : 2641\n",
      "Hudl : 2622\n",
      "SportsManias: Sports Emojis, Fantasy & Team News : 2431\n",
      "BTN2Go : 1628\n",
      "Pac-12 Now : 1221\n",
      "Watch NFL Network : 1110\n",
      "Golf Live Extra : 840\n",
      "UFC ® : 809\n",
      "Premier League - Official App : 791\n",
      "NCAA Sports : 636\n",
      "The Olympics - Official App for the Olympic Games : 470\n",
      "NBC Sports Scores : 428\n",
      "DK Live – Fantasy Sports Play by Play and News : 416\n",
      "Résultats Foot en Direct : 339\n",
      "NFL Rush Gameday : 272\n",
      "NFL Gridiron from Panini - Card Collecting-Trading : 257\n",
      "Hiking Project : 247\n",
      "2016 U.S. Open Golf Championship for iPad : 146\n",
      "The Open : 142\n",
      "European Qualifiers Official App : 135\n",
      "TwinSpires Official Kentucky Derby Wagering App : 131\n",
      "SofaScore Live Sports: Scores, VIDEO & Stats : 103\n",
      "Team USA App : 101\n",
      "NBAmoji : 89\n",
      "FOX Sports VR : 81\n",
      "BAA Marathon : 70\n",
      "TCS NYC Marathon : 43\n",
      "Vendée Globe 2016 : 42\n",
      "Dream Team - be your own fantasy football manager : 35\n",
      "NFL Draft - Fan Mobile Pass : 32\n",
      "WKC Dog Show 2017 : 30\n",
      "CCTV5 : 14\n",
      "My8to18 : 10\n",
      "Race Calendar 2016 : 1\n",
      "Team GB Live : 1\n",
      "francetv JO – Regarder les Jeux Olympiques de Rio 2016 : 0\n",
      "FFmoji 2016 - Your Fantasy Football Emoji Keyboard : 0\n",
      "HowDidiDo : 0\n",
      "\n",
      "\n",
      "Reference\n",
      "\n",
      "Bible : 985920\n",
      "Dictionary.com Dictionary & Thesaurus : 200047\n",
      "Dictionary.com Dictionary & Thesaurus for iPad : 54175\n",
      "Google Translate : 26786\n",
      "Muslim Pro: Ramadan 2017 Prayer Times, Azan, Quran : 18418\n",
      "New Furniture Mods - Pocket Wiki & Game Tools for Minecraft PC Edition : 17588\n",
      "Merriam-Webster Dictionary : 16849\n",
      "Night Sky : 12122\n",
      "City Maps for Minecraft PE - The Best Maps for Minecraft Pocket Edition (MCPE) : 8535\n",
      "LUCKY BLOCK MOD ™ for Minecraft PC Edition - The Best Pocket Wiki & Mods Installer Tools : 4693\n",
      "GUNS MODS for Minecraft PC Edition - Mods Tools : 1497\n",
      "Guides for Pokémon GO - Pokemon GO News and Cheats : 826\n",
      "WWDC : 762\n",
      "Horror Maps for Minecraft PE - Download The Scariest Maps for Minecraft Pocket Edition (MCPE) Free : 718\n",
      "VPN Express : 14\n",
      "Real Bike Traffic Rider Virtual Reality Glasses : 8\n",
      "教えて!goo : 0\n",
      "Jishokun-Japanese English Dictionary & Translator : 0\n",
      "\n",
      "\n",
      "Book\n",
      "\n",
      "Kindle – Read eBooks, Magazines & Textbooks : 252076\n",
      "Audible – audio books, original series & podcasts : 105274\n",
      "Color Therapy Adult Coloring Book for Adults : 84062\n",
      "OverDrive – Library eBooks and Audiobooks : 65450\n",
      "HOOKED - Chat Stories : 47829\n",
      "BookShout: Read eBooks & Track Your Reading Goals : 879\n",
      "Dr. Seuss Treasury — 50 best kids books : 451\n",
      "Green Riding Hood : 392\n",
      "Weirdwood Manor : 197\n",
      "MangaZERO - comic reader : 9\n",
      "ikouhoushi : 0\n",
      "MangaTiara - love comic reader : 0\n",
      "謎解き : 0\n",
      "謎解き2016 : 0\n"
     ]
    }
   ],
   "source": [
    "# Testing the app genres\n",
    "\n",
    "print('Business\\n')\n",
    "for app in ios_final:\n",
    "    if app[-5] == 'Business':\n",
    "        print(app[1], ':', app[5])\n",
    "\n",
    "print('\\n')\n",
    "print('Sports\\n')\n",
    "for app in ios_final:\n",
    "    if app[-5] == 'Sports':\n",
    "        print(app[1], ':', app[5])\n",
    "\n",
    "print('\\n')\n",
    "print('Reference\\n')\n",
    "for app in ios_final:\n",
    "    if app[-5] == 'Reference':\n",
    "        print(app[1], ':', app[5])\n",
    "\n",
    "print('\\n')\n",
    "print('Book\\n')\n",
    "for app in ios_final:\n",
    "    if app[-5] == 'Book':\n",
    "        print(app[1], ':', app[5])"
   ]
  },
  {
   "cell_type": "markdown",
   "metadata": {},
   "source": [
    "Analyzing final dataset, we can say with certainity that the genres/categories that we chose for Android App Market are suitable for iOS App Store as well. Infact, App Store doesn't have much competiton as compared to the Google Play Market and many of the popular Android App niches are not that visible on the Apple App Store."
   ]
  },
  {
   "cell_type": "markdown",
   "metadata": {},
   "source": [
    "# Conclusion and Ideas"
   ]
  },
  {
   "cell_type": "markdown",
   "metadata": {},
   "source": [
    "In this project, we analyzed data about the Apple App Store and Google Play mobile apps with the goal of recommending an app profile that can be profitable for both markets.\n",
    "\n",
    "We concluded that `Business`, `Sports`, and `Book` niches are good options to build an app for.\n",
    "\n",
    "Infact, I have a few ideas as well:\n",
    "\n",
    "- We can convert learnings from different books and make an app where the users can read their summary, listen to major points of the books, download famous quotes from books as wallpapers or social media post and share excerpts with their friends through online chats or SMS along with the app link. Infact, we can make it fun and reward users with different rewards when they sign up, complete a book or share the book.\n",
    "\n",
    "- Reference guides are evergreen. We can create an app which will work as reference guides for different niches such as Software Development, Personal Finance or even Food. We will need to make them interesting, interactive and provide with some extra features such as knowledge sharing in pictures with friends.\n",
    "\n",
    "- Smart business tools can help us help businesses to either save money or earn more revenue. Businesses really appreciate that. Project management apps, business guides, Invoicing apps, etc. are practical apps, with great prospects and less competition.\n",
    "\n",
    "- Sports information apps such as live match scores with text/audio commentary, player/team information, match schedules, and points table can be really powerful and engaging. Besides having high usage time, they are informative and practical and hence a good genre to be making an app in."
   ]
  }
 ],
 "metadata": {
  "kernelspec": {
   "display_name": "Python 3",
   "language": "python",
   "name": "python3"
  },
  "language_info": {
   "codemirror_mode": {
    "name": "ipython",
    "version": 3
   },
   "file_extension": ".py",
   "mimetype": "text/x-python",
   "name": "python",
   "nbconvert_exporter": "python",
   "pygments_lexer": "ipython3",
   "version": "3.8.2"
  }
 },
 "nbformat": 4,
 "nbformat_minor": 2
}
